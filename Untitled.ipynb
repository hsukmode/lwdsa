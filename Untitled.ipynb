{
 "cells": [
  {
   "cell_type": "code",
   "execution_count": null,
   "metadata": {},
   "outputs": [],
   "source": [
    "import lwdsa"
   ]
  },
  {
   "cell_type": "code",
   "execution_count": 1,
   "metadata": {},
   "outputs": [],
   "source": [
    "from lwdsa.ds.list import DoublyLinkedList"
   ]
  },
  {
   "cell_type": "code",
   "execution_count": 2,
   "metadata": {},
   "outputs": [
    {
     "data": {
      "text/plain": [
       "lwdsa.ds.list.doubly_linked_list.DoublyLinkedList"
      ]
     },
     "execution_count": 2,
     "metadata": {},
     "output_type": "execute_result"
    }
   ],
   "source": [
    "DoublyLinkedList"
   ]
  },
  {
   "cell_type": "code",
   "execution_count": 5,
   "metadata": {},
   "outputs": [],
   "source": [
    "SLL = DoublyLinkedList()\n",
    "SLL.add_first(5)\n",
    "SLL.add_first(10)\n",
    "\n",
    "\n"
   ]
  },
  {
   "cell_type": "code",
   "execution_count": 8,
   "metadata": {},
   "outputs": [],
   "source": [
    "from typing import Any"
   ]
  },
  {
   "cell_type": "code",
   "execution_count": 11,
   "metadata": {},
   "outputs": [],
   "source": [
    "\n",
    "class DLLNode:\n",
    "\n",
    "    def __init__(self, val: Any = None, prev = None, next = None):\n",
    "        self.val = val\n",
    "        self.prev = prev\n",
    "        self.next = next"
   ]
  },
  {
   "cell_type": "code",
   "execution_count": 97,
   "metadata": {},
   "outputs": [],
   "source": [
    "class DoublyLinkedList:\n",
    "    \"\"\"Hello\n",
    "    \"\"\"\n",
    "\n",
    "\n",
    "    def __init__(self):\n",
    "        self.sentinel = DLLNode()\n",
    "        self.size = 0\n",
    "\n",
    "    def add_first(self, val: Any):\n",
    "        cur_first = self.sentinel.next \n",
    "        node_to_insert = DLLNode(val = val, next = cur_first)\n",
    "        self.sentinel.next = node_to_insert\n",
    "        if not self.sentinel.prev:\n",
    "            self.sentinel.prev = node_to_insert\n",
    "        self.size += 1\n",
    "\n",
    "    def add_last(self, val: Any):\n",
    "        cur_last = self.sentinel.prev \n",
    "        node_to_add = DLLNode(val = val)\n",
    "        \n",
    "        if not self.sentinel.next:\n",
    "            self.sentinel.next = node_to_add\n",
    "        \n",
    "        self.sentinel.prev = node_to_add\n",
    "        cur_last.next = self.sentinel.prev\n",
    "        self.size += 1\n",
    "        \n",
    "    def remove_first(self):\n",
    "        pass\n",
    "    \n",
    "    def remove_last(self):\n",
    "        pass\n",
    "    \n",
    "    def remove(self, index: int)\n",
    "        \n",
    "    \n",
    "    \n",
    "\n",
    "    def add(self, index):\n",
    "        pass\n",
    "\n",
    "    def is_empty(self) -> bool:\n",
    "        return self.size == 0\n",
    "    \n",
    "    def __len__(self) -> int:\n",
    "        return self.size\n",
    "    \n",
    "    def __repr__(self) -> str:\n",
    "        str_representation = []\n",
    "        first = self.sentinel.next\n",
    "        while first is not None:\n",
    "            str_representation.append(f\"{first.val}\")\n",
    "            if first.next:\n",
    "                str_representation.append(\" -> \")\n",
    "            first = first.next\n",
    "        return ''.join(str_representation)\n",
    "\n",
    "    \n"
   ]
  },
  {
   "cell_type": "code",
   "execution_count": 98,
   "metadata": {},
   "outputs": [],
   "source": [
    "DLL = DoublyLinkedList()"
   ]
  },
  {
   "cell_type": "code",
   "execution_count": 99,
   "metadata": {},
   "outputs": [],
   "source": [
    "DLL.add_first(5)"
   ]
  },
  {
   "cell_type": "code",
   "execution_count": 100,
   "metadata": {},
   "outputs": [],
   "source": [
    "DLL.add_first(20)\n"
   ]
  },
  {
   "cell_type": "code",
   "execution_count": 101,
   "metadata": {},
   "outputs": [],
   "source": [
    "DLL.add_last(40)"
   ]
  },
  {
   "cell_type": "code",
   "execution_count": 102,
   "metadata": {},
   "outputs": [
    {
     "name": "stdout",
     "output_type": "stream",
     "text": [
      "20 -> 5 -> 40\n"
     ]
    }
   ],
   "source": [
    "print(DLL)"
   ]
  },
  {
   "cell_type": "code",
   "execution_count": 103,
   "metadata": {},
   "outputs": [
    {
     "data": {
      "text/plain": [
       "3"
      ]
     },
     "execution_count": 103,
     "metadata": {},
     "output_type": "execute_result"
    }
   ],
   "source": [
    "len(DLL)"
   ]
  },
  {
   "cell_type": "code",
   "execution_count": null,
   "metadata": {},
   "outputs": [],
   "source": []
  }
 ],
 "metadata": {
  "kernelspec": {
   "display_name": "Python 3",
   "language": "python",
   "name": "python3"
  },
  "language_info": {
   "codemirror_mode": {
    "name": "ipython",
    "version": 3
   },
   "file_extension": ".py",
   "mimetype": "text/x-python",
   "name": "python",
   "nbconvert_exporter": "python",
   "pygments_lexer": "ipython3",
   "version": "3.8.3"
  }
 },
 "nbformat": 4,
 "nbformat_minor": 4
}
